{
 "cells": [
  {
   "cell_type": "code",
   "execution_count": 60,
   "metadata": {},
   "outputs": [
    {
     "name": "stdout",
     "output_type": "stream",
     "text": [
      "1 loop, best of 3: 126 µs per loop\n"
     ]
    }
   ],
   "source": [
    "%%timeit -n1\n",
    "with open(\"fibo_input.txt\",\"r\") as f:\n",
    "    x=f.read().splitlines()\n",
    "x= [int(x) for x in x]"
   ]
  },
  {
   "cell_type": "code",
   "execution_count": 81,
   "metadata": {},
   "outputs": [
    {
     "name": "stdout",
     "output_type": "stream",
     "text": [
      "1\n",
      "2\n",
      "55\n",
      "196418\n",
      "4807526976\n",
      "225851433717\n",
      "2111485077978050\n",
      "1779979416004714189\n",
      "7540113804746346429\n",
      "1\n",
      "2\n",
      "55\n",
      "196418\n",
      "4807526976\n",
      "225851433717\n",
      "2111485077978050\n",
      "1779979416004714189\n",
      "7540113804746346429\n",
      "1\n",
      "2\n",
      "55\n",
      "196418\n",
      "4807526976\n",
      "225851433717\n",
      "2111485077978050\n",
      "1779979416004714189\n",
      "7540113804746346429\n",
      "1 loop, best of 3: 562 µs per loop\n"
     ]
    }
   ],
   "source": [
    "%%timeit -n1\n",
    "fiblist=[]\n",
    "def fib(n):\n",
    "    a=0\n",
    "    b=1\n",
    "    for i in range(1,n+1):\n",
    "        c = a+b\n",
    "        fiblist.append(b)\n",
    "        a = b\n",
    "        b = c\n",
    "fib(max(x))\n",
    "for i in x:\n",
    "    print fiblist[i-1]"
   ]
  },
  {
   "cell_type": "code",
   "execution_count": null,
   "metadata": {
    "collapsed": true
   },
   "outputs": [],
   "source": []
  }
 ],
 "metadata": {
  "kernelspec": {
   "display_name": "Python 2",
   "language": "python",
   "name": "python2"
  },
  "language_info": {
   "codemirror_mode": {
    "name": "ipython",
    "version": 2
   },
   "file_extension": ".py",
   "mimetype": "text/x-python",
   "name": "python",
   "nbconvert_exporter": "python",
   "pygments_lexer": "ipython2",
   "version": "2.7.13"
  }
 },
 "nbformat": 4,
 "nbformat_minor": 2
}
