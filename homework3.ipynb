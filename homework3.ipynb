{
 "cells": [
  {
   "cell_type": "code",
   "execution_count": 3,
   "metadata": {
    "collapsed": true
   },
   "outputs": [],
   "source": [
    "%matplotlib inline\n",
    "import numpy as np\n",
    "from matplotlib import pyplot as plt"
   ]
  },
  {
   "cell_type": "code",
   "execution_count": 6,
   "metadata": {
    "collapsed": true
   },
   "outputs": [],
   "source": [
    "x =[]\n",
    "y=[]\n",
    "\n",
    "for i in range(30):\n",
    "    x.append([5+np.random.rand(),5+np.random.rand(),1])\n",
    "    y.append([0,1])\n",
    "for i in range(30):\n",
    "    x.append([-5+np.random.rand(),-5+np.random.rand(),1])\n",
    "    y.append([1,0])\n",
    "x=np.array(x)\n",
    "y=np.array(y)"
   ]
  },
  {
   "cell_type": "code",
   "execution_count": 7,
   "metadata": {},
   "outputs": [
    {
     "data": {
      "text/plain": [
       "[<matplotlib.lines.Line2D at 0x7ba64e0>]"
      ]
     },
     "execution_count": 7,
     "metadata": {},
     "output_type": "execute_result"
    },
    {
     "data": {
      "image/png": "[encoded data removed]",
      "text/plain": [
       "<matplotlib.figure.Figure at 0x79d56a0>"
      ]
     },
     "metadata": {},
     "output_type": "display_data"
    }
   ],
   "source": [
    "plt.plot( x[:,0], x[:,1], 'o')"
   ]
  },
  {
   "cell_type": "code",
   "execution_count": 9,
   "metadata": {
    "collapsed": true
   },
   "outputs": [],
   "source": [
    "def g(x):    \n",
    "    return 1/(1+np.exp(-x))\n",
    "\n",
    "def grad_g(g):\n",
    "        return (1-g)*g"
   ]
  },
  {
   "cell_type": "code",
   "execution_count": 27,
   "metadata": {
    "collapsed": true
   },
   "outputs": [],
   "source": [
    "np.random.seed(1)\n",
    "wb1 = np.random.random((3,2)) - 1\n",
    "wb2 = np.random.random((2,2)) -1"
   ]
  },
  {
   "cell_type": "code",
   "execution_count": 28,
   "metadata": {},
   "outputs": [
    {
     "ename": "ValueError",
     "evalue": "operands could not be broadcast together with shapes (2,2) (3,2) (2,2) ",
     "output_type": "error",
     "traceback": [
      "\u001b[1;31m---------------------------------------------------------------------------\u001b[0m",
      "\u001b[1;31mValueError\u001b[0m                                Traceback (most recent call last)",
      "\u001b[1;32m<ipython-input-28-e88216d2b44d>\u001b[0m in \u001b[0;36m<module>\u001b[1;34m()\u001b[0m\n\u001b[0;32m     11\u001b[0m     \u001b[0mdelta_a2\u001b[0m \u001b[1;33m=\u001b[0m \u001b[0ma2\u001b[0m \u001b[1;33m-\u001b[0m \u001b[0my\u001b[0m\u001b[1;33m\u001b[0m\u001b[0m\n\u001b[0;32m     12\u001b[0m     \u001b[0mdelta_z1\u001b[0m \u001b[1;33m=\u001b[0m \u001b[0mdelta_a2\u001b[0m\u001b[1;33m*\u001b[0m\u001b[0mgrad_g\u001b[0m\u001b[1;33m(\u001b[0m\u001b[0mdelta_a2\u001b[0m\u001b[1;33m)\u001b[0m\u001b[1;33m\u001b[0m\u001b[0m\n\u001b[1;32m---> 13\u001b[1;33m     \u001b[0mwb2\u001b[0m \u001b[1;33m+=\u001b[0m \u001b[0mx\u001b[0m\u001b[1;33m.\u001b[0m\u001b[0mT\u001b[0m\u001b[1;33m.\u001b[0m\u001b[0mdot\u001b[0m\u001b[1;33m(\u001b[0m\u001b[0mdelta_z1\u001b[0m\u001b[1;33m)\u001b[0m\u001b[1;33m\u001b[0m\u001b[0m\n\u001b[0m\u001b[0;32m     14\u001b[0m \u001b[1;33m\u001b[0m\u001b[0m\n\u001b[0;32m     15\u001b[0m     \u001b[0mdelta_a1\u001b[0m \u001b[1;33m=\u001b[0m \u001b[0mdelta_z1\u001b[0m \u001b[1;33m*\u001b[0m \u001b[0mx\u001b[0m\u001b[1;33m.\u001b[0m\u001b[0mT\u001b[0m\u001b[1;33m.\u001b[0m\u001b[0mdot\u001b[0m\u001b[1;33m(\u001b[0m\u001b[0mwb1\u001b[0m\u001b[1;33m)\u001b[0m\u001b[1;33m\u001b[0m\u001b[0m\n",
      "\u001b[1;31mValueError\u001b[0m: operands could not be broadcast together with shapes (2,2) (3,2) (2,2) "
     ]
    }
   ],
   "source": [
    "for i in range(1000):\n",
    "    #start forward\n",
    "    z0=np.dot(x,wb1)\n",
    "    a1=g(z0)\n",
    "    \n",
    "    z1=np.dot(a1,wb2)\n",
    "    a2=g(z1)\n",
    "    #end forward\n",
    "    \n",
    "    #start backward\n",
    "    delta_a2 = a2 - y\n",
    "    delta_z1 = delta_a2*grad_g(delta_a2)\n",
    "    wb2 += x.T.dot(delta_z1)\n",
    "    \n",
    "    delta_a1 = delta_z1 * x.T.dot(wb1)\n",
    "    delta_z0 = delta_a1 * grad_g(delta_a1)\n",
    "    wb1 += x.T.dot(delta_z0)\n",
    "    \n",
    "    if(i % 100) == 0:  \n",
    "        print(\"Error: \" + str(np.mean(np.abs(delta_a2))))\n",
    "    #end backward"
   ]
  },
  {
   "cell_type": "code",
   "execution_count": null,
   "metadata": {
    "collapsed": true
   },
   "outputs": [],
   "source": []
  }
 ],
 "metadata": {
  "kernelspec": {
   "display_name": "Python 2",
   "language": "python",
   "name": "python2"
  },
  "language_info": {
   "codemirror_mode": {
    "name": "ipython",
    "version": 2
   },
   "file_extension": ".py",
   "mimetype": "text/x-python",
   "name": "python",
   "nbconvert_exporter": "python",
   "pygments_lexer": "ipython2",
   "version": "2.7.13"
  }
 },
 "nbformat": 4,
 "nbformat_minor": 2
}
